{
 "cells": [
  {
   "cell_type": "code",
   "execution_count": 2,
   "metadata": {},
   "outputs": [],
   "source": [
    "import glob\n",
    "import os\n",
    "import tensorflow as tf\n",
    "import tensorflow_addons as tfa\n",
    "import matplotlib.pyplot as plt\n",
    "import cv2\n",
    "from tensorflow.keras.layers import Conv2D, MaxPool2D, Concatenate, Flatten, Dense"
   ]
  },
  {
   "cell_type": "code",
   "execution_count": 3,
   "metadata": {},
   "outputs": [],
   "source": [
    "EPOCHS = 1000\n",
    "RESULT_SAVE_PATH = 'results/'"
   ]
  },
  {
   "cell_type": "code",
   "execution_count": 4,
   "metadata": {},
   "outputs": [],
   "source": [
    "def Model():\n",
    "    def inception(filters):\n",
    "        def subnetwork(x):\n",
    "            h1 = Conv2D(filters, (1, 1), padding='same', activation='relu')(x)\n",
    "            h1 = MaxPool2D()(h1)\n",
    "            \n",
    "            h2 = Conv2D(filters // 2, (1, 1), padding='same', activation='relu')(x)\n",
    "            h2 = Conv2D(filters, (3, 3), padding='same', activation='relu')(h2)\n",
    "            h2 = MaxPool2D()(h2)\n",
    "            \n",
    "            h3 = Conv2D(filters // 2, (1, 1), padding='same', activation='relu')(x)\n",
    "            h3 = Conv2D(filters, (5, 5), padding='same', activation='relu')(h3)\n",
    "            h3 = MaxPool2D()(h3)\n",
    "            return Concatenate()([h1, h2, h3])\n",
    "        return subnetwork\n",
    "    \n",
    "    x = tf.keras.Input(shape=(256, 256, 3))\n",
    "    h = inception(16)(x)\n",
    "    h = inception(32)(h)\n",
    "    h = inception(32)(h)\n",
    "    h = inception(32)(h)\n",
    "    h = inception(32)(h)\n",
    "    h = Flatten()(h)\n",
    "    h = Dense(1024, activation='relu')(h)\n",
    "    y = Dense(1, activation='sigmoid')(h)\n",
    "    return tf.keras.Model(inputs=x, outputs=y)"
   ]
  },
  {
   "cell_type": "code",
   "execution_count": 5,
   "metadata": {},
   "outputs": [],
   "source": [
    "def preprocess(img):\n",
    "    return tf.image.convert_image_dtype(img, tf.float32)"
   ]
  },
  {
   "cell_type": "code",
   "execution_count": 6,
   "metadata": {},
   "outputs": [],
   "source": [
    "def augmentation(img, label):\n",
    "    def flip(x):\n",
    "        x = tf.image.random_flip_left_right(x)\n",
    "        x = tf.image.random_flip_up_down(x)\n",
    "        return x\n",
    "    \n",
    "    def rotate(x):\n",
    "        x = tf.cond(tf.random.uniform(shape=[], minval=0.0, maxval=1.0, dtype=tf.float32) > 0.5,\n",
    "                   lambda: tfa.image.rotate(x,\n",
    "                                       tf.random.uniform(shape=[], minval=0.0, maxval=360.0, dtype=tf.float32),\n",
    "                                       interpolation='BILINEAR'),\n",
    "                   lambda: x)\n",
    "        return x\n",
    "    \n",
    "    def translation(x):\n",
    "        dx = tf.random.uniform(shape=[], minval=-10.0, maxval=10.0, dtype=tf.float32)\n",
    "        dy = tf.random.uniform(shape=[], minval=-10.0, maxval=10.0, dtype=tf.float32)\n",
    "        x = tf.cond(tf.random.uniform(shape=[], minval=0.0, maxval=1.0, dtype=tf.float32) > 0.5,\n",
    "                    lambda: tfa.image.transform(x,\n",
    "                                                [0, 0, dx, 0, 0, dy, 0, 0],\n",
    "                                                interpolation='BILINEAR'),\n",
    "                    lambda: x)\n",
    "        return x\n",
    "    \n",
    "    img = flip(img)\n",
    "    img = rotate(img)\n",
    "    img = translation(img)\n",
    "           \n",
    "    return img, label"
   ]
  },
  {
   "cell_type": "code",
   "execution_count": 12,
   "metadata": {},
   "outputs": [
    {
     "name": "stdout",
     "output_type": "stream",
     "text": [
      "2480\n"
     ]
    }
   ],
   "source": [
    "tffiles = glob.glob('tf/records/*')\n",
    "raw_image_dataset = tf.data.TFRecordDataset(tffiles)\n",
    "\n",
    "image_feature_description = {\n",
    "    'height': tf.io.FixedLenFeature([], tf.int64),\n",
    "    'width': tf.io.FixedLenFeature([], tf.int64),\n",
    "    'depth': tf.io.FixedLenFeature([], tf.int64),\n",
    "    'label': tf.io.FixedLenFeature([], tf.int64),\n",
    "    'image_raw': tf.io.FixedLenFeature([], tf.string),\n",
    "}\n",
    "\n",
    "def _parse_image_function(example_proto):\n",
    "    return tf.io.parse_single_example(example_proto, image_feature_description)\n",
    "\n",
    "def _parse_image_label(parsed_dataset):\n",
    "    return preprocess(tf.image.decode_png(parsed_dataset['image_raw'])), parsed_dataset['label']\n",
    "\n",
    "parsed_image_dataset = raw_image_dataset.map(_parse_image_function)\n",
    "dataset = parsed_image_dataset.map(_parse_image_label)\n",
    "ds_size = 0\n",
    "for _ in dataset:\n",
    "    ds_size += 1\n",
    "print(ds_size)"
   ]
  },
  {
   "cell_type": "code",
   "execution_count": 13,
   "metadata": {
    "scrolled": true
   },
   "outputs": [],
   "source": [
    "train_size = int(ds_size * 0.7)\n",
    "\n",
    "ds = dataset.shuffle(ds_size)\n",
    "ds_train = ds.take(train_size).shuffle(1024, reshuffle_each_iteration=True).prefetch(1024).batch(32).map(augmentation)\n",
    "ds_valid = ds.skip(train_size).prefetch(1024).batch(32)"
   ]
  },
  {
   "cell_type": "code",
   "execution_count": 14,
   "metadata": {
    "scrolled": true
   },
   "outputs": [],
   "source": [
    "model = Model()\n",
    "model.compile(optimizer='adam',\n",
    "              loss='binary_crossentropy',\n",
    "              metrics=['accuracy'])"
   ]
  },
  {
   "cell_type": "code",
   "execution_count": null,
   "metadata": {
    "scrolled": true
   },
   "outputs": [
    {
     "name": "stdout",
     "output_type": "stream",
     "text": [
      "Epoch 1/1000\n",
      "     55/Unknown - 217s 4s/step - loss: 0.7074 - accuracy: 0.5012"
     ]
    }
   ],
   "source": [
    "earlystopping = tf.keras.callbacks.EarlyStopping(monitor='val_loss', patience=30, verbose=1)\n",
    "history = model.fit(ds_train,\n",
    "                    validation_data=ds_valid,\n",
    "                    epochs=EPOCHS,\n",
    "                    callbacks=[earlystopping])"
   ]
  },
  {
   "cell_type": "code",
   "execution_count": 10,
   "metadata": {},
   "outputs": [
    {
     "data": {
      "image/png": "[encoded data removed]",
      "text/plain": [
       "<matplotlib.figure.Figure at 0x7fdc10604c18>"
      ]
     },
     "metadata": {
      "needs_background": "light"
     },
     "output_type": "display_data"
    }
   ],
   "source": [
    "loss = history.history['loss']\n",
    "val_loss = history.history['val_loss']\n",
    "\n",
    "plt.figure()\n",
    "plt.plot(loss, 'ro-')\n",
    "plt.plot(val_loss, 'bo-')\n",
    "plt.ylabel('Cross Entropy')\n",
    "plt.xlabel('Epoch')\n",
    "plt.title('Training and Validation Loss')\n",
    "plt.show()"
   ]
  },
  {
   "cell_type": "code",
   "execution_count": 11,
   "metadata": {},
   "outputs": [],
   "source": [
    "model.save('model/inception_model.h5')"
   ]
  }
 ],
 "metadata": {
  "kernelspec": {
   "display_name": "Python 3",
   "language": "python",
   "name": "python3"
  },
  "language_info": {
   "codemirror_mode": {
    "name": "ipython",
    "version": 3
   },
   "file_extension": ".py",
   "mimetype": "text/x-python",
   "name": "python",
   "nbconvert_exporter": "python",
   "pygments_lexer": "ipython3",
   "version": "3.7.4"
  }
 },
 "nbformat": 4,
 "nbformat_minor": 2
}
