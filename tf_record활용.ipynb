{
 "cells": [
  {
   "cell_type": "code",
   "execution_count": 5,
   "metadata": {},
   "outputs": [
    {
     "name": "stdout",
     "output_type": "stream",
     "text": [
      "C:\\Users\\user\\Desktop\\study\\deep_learning\n"
     ]
    }
   ],
   "source": [
    "cd C:\\Users\\user\\Desktop\\study\\deep_learning"
   ]
  },
  {
   "cell_type": "code",
   "execution_count": 1,
   "metadata": {},
   "outputs": [],
   "source": [
    "import glob\n",
    "import os\n",
    "import tensorflow as tf\n",
    "import cv2"
   ]
  },
  {
   "cell_type": "code",
   "execution_count": 2,
   "metadata": {},
   "outputs": [],
   "source": [
    "DATASET_OK_PATTERN = 'data/3/OK/*.png'\n",
    "DATASET_FAIL_PATTERN = 'data/3/FAIL/*.png'\n",
    "\n",
    "TFRECORD_PATH = 'tf/records/'\n",
    "IMAGE_PER_TFRECORD = 100"
   ]
  },
  {
   "cell_type": "code",
   "execution_count": 12,
   "metadata": {},
   "outputs": [
    {
     "name": "stdout",
     "output_type": "stream",
     "text": [
      "1240 1240\n"
     ]
    }
   ],
   "source": [
    "ok_list = glob.glob(DATASET_OK_PATTERN)\n",
    "fail_list = glob.glob(DATASET_FAIL_PATTERN)\n",
    "\n",
    "ok_size = len(ok_list)\n",
    "fail_size = len(fail_list)\n",
    "\n",
    "#oversampling\n",
    "fail_list_new = []\n",
    "for _ in range(ok_size // fail_size):\n",
    "    fail_list_new += fail_list\n",
    "fail_list_new += fail_list[:ok_size%fail_size]\n",
    "fail_list = fail_list_new\n",
    "ok_label = [0]*ok_size\n",
    "fail_label = [1]*ok_size\n",
    "file_list = ok_list + fail_list\n",
    "label_list = ok_label+fail_label\n",
    "print(ok_size, len(fail_list))"
   ]
  },
  {
   "cell_type": "code",
   "execution_count": 13,
   "metadata": {},
   "outputs": [],
   "source": [
    "def _bytes_feature(value):\n",
    "    \"\"\"Returns a bytes_list from a string / byte.\"\"\"\n",
    "    if isinstance(value, type(tf.constant(0))):\n",
    "        value = value.numpy() # BytesList won't unpack a string from an EagerTensor.\n",
    "    return tf.train.Feature(bytes_list=tf.train.BytesList(value=[value]))\n",
    "\n",
    "def _int64_feature(value):\n",
    "    \"\"\"Returns an int64_list from a bool / enum / int / uint.\"\"\"\n",
    "    return tf.train.Feature(int64_list=tf.train.Int64List(value=[value]))\n",
    "\n",
    "def image_example(image_string, label):\n",
    "    image_shape = tf.image.decode_image(image_string).shape\n",
    "\n",
    "    feature = {\n",
    "        'height': _int64_feature(image_shape[0]),\n",
    "        'width': _int64_feature(image_shape[1]),\n",
    "        'depth': _int64_feature(image_shape[2]),\n",
    "        'label': _int64_feature(label),\n",
    "        'image_raw': _bytes_feature(image_string),\n",
    "    }\n",
    "\n",
    "    return tf.train.Example(features=tf.train.Features(feature=feature))"
   ]
  },
  {
   "cell_type": "code",
   "execution_count": 14,
   "metadata": {},
   "outputs": [],
   "source": [
    "if os.path.exists(TFRECORD_PATH) is False:\n",
    "    os.mkdir(TFRECORD_PATH)\n",
    "    \n",
    "num_tfrecords = len(file_list) // IMAGE_PER_TFRECORD\n",
    "if len(file_list)%IMAGE_PER_TFRECORD !=0:\n",
    "    num_tfrecords +=1\n",
    "\n",
    "for idx in range(num_tfrecords):\n",
    "    i0 = idx * IMAGE_PER_TFRECORD\n",
    "    i1 = i0 + IMAGE_PER_TFRECORD\n",
    "    record_file = TFRECORD_PATH + '%05d.tfrecords' %idx\n",
    "    with tf.io.TFRecordWriter(record_file) as writer:\n",
    "        for filename, label in zip(file_list[i0:i1],label_list[i0:i1]):\n",
    "            image_string = open(filename,'rb').read()\n",
    "            tf_example = image_example(image_string, label)\n",
    "            writer.write(tf_example.SerializeToString())"
   ]
  },
  {
   "cell_type": "code",
   "execution_count": null,
   "metadata": {},
   "outputs": [],
   "source": []
  }
 ],
 "metadata": {
  "kernelspec": {
   "display_name": "Python 3",
   "language": "python",
   "name": "python3"
  },
  "language_info": {
   "codemirror_mode": {
    "name": "ipython",
    "version": 3
   },
   "file_extension": ".py",
   "mimetype": "text/x-python",
   "name": "python",
   "nbconvert_exporter": "python",
   "pygments_lexer": "ipython3",
   "version": "3.7.4"
  }
 },
 "nbformat": 4,
 "nbformat_minor": 2
}
